{
 "cells": [
  {
   "cell_type": "code",
   "execution_count": 17,
   "metadata": {},
   "outputs": [],
   "source": [
    "from langchain_community.document_loaders import PyMuPDFLoader\n",
    "path = 'data\\해리포터3 대본.pdf'\n",
    "loader = PyMuPDFLoader(path)"
   ]
  },
  {
   "cell_type": "code",
   "execution_count": 7,
   "metadata": {},
   "outputs": [],
   "source": [
    "docs = loader.load()"
   ]
  },
  {
   "cell_type": "code",
   "execution_count": 15,
   "metadata": {},
   "outputs": [
    {
     "data": {
      "text/plain": [
       "\"해리 : 마지 아줌마가 그러면 저도 그럴게요.\\n\\xa0\\nMarge : Ah, you're still here, are you?\\n마지 : 아, 넌 아직도 여기있니?\\n\\xa0\\nHarry : Yes!\\n해리 : 네!\\n\\xa0\\nMarge : Don't you say 'yes' in that ungrateful tone. It's damn good of my brother to keep you. You'd \\nhave gone straight to an orphanage if you'd been dumped on my doorstep.\\n마지 : ‘네’하고 버릇없게 말하지 말아라. 내 오빠가 널 보살펴 주고 있다는 것에 넌 감사해야 되. 네가 우\\n리집 문간에 버려졌으면 넌 고아원 직행이었을 거다.\\n\\xa0\\n(Dudley laughing)\\n(두들이 웃는다)\\n\\xa0\\nMarge : Oh! Where's my Dudders? Where's my neffy-poo? Come on up, up, up!\\n마지 : 오! 내 귀여운 조카가 어딨지? 내 귀여운 조카? 이리 올라와!\\n\\xa0\\nVernon : Take back at the upstairs!\\n버논 : 그거 어서 위로 도로 갔다놔!\\n\\xa0\\nHarry : Okay.\\n해리 : 알았어요.\\n\\xa0\\n(Dursley families are having lunch)\\n(더즐리 가족 저녁을 먹고 있다)\\n\\xa0\\nMarge : Set up here, Ripper.\\n마지 : 이거 먹어라, 리퍼.\\n\\xa0\\nVernon : Can I tempt you, Marge?\\n버논 : 한 잔 할래, 마지?\\nMarge : Just a small one, excellent nosh, Petunia. Yeah, a bit more. Usually just a fry-up for me \\nwith twelve dogs. A bit more, that's avoid. Would you want to try to cup of brandy? Little drop of \\nbrandy windy brandy... Why do you snooking yet? Where did you send the boy, Vernon?\\n마지 : 조금만요, 맛있는 식사였어요, 언니. 그래요, 조금만 더요. 12마리의 개들과 있으면 식사는 거르기\\n가 일수죠. 조금만 더요, 됐어요. 브랜디 좀 마셔 볼래? 브랜디 조금만... 뭘 히죽거리니? 저 아이를 어디에 \\n보내고 있죠, 오빠?\\n\\xa0\\nVernon : St. Brutus's. It's the ﬁnest chosen for hopeless cases.\\n버논 : 성 부르스터스. 가장 좋은 선택이었지.\\n\\xa0\\nMarge : Do they use the cane at St. Brutus's, boy?\\n마지 : 성 부르스터스에서는 체벌도 하니 얘야?\\n\\xa0\\nHarry : Oh, yeah. I've been loads of times.\\n해리 : 오, 그럼요. 전 많이 맞아요.\\n\\xa0\\n\""
      ]
     },
     "execution_count": 15,
     "metadata": {},
     "output_type": "execute_result"
    }
   ],
   "source": [
    "docs[1].page_content"
   ]
  },
  {
   "cell_type": "code",
   "execution_count": 100,
   "metadata": {},
   "outputs": [],
   "source": [
    "# pip install PyMuPDF\n",
    "import fitz\n",
    "import re\n",
    "\n",
    "eng_script = []\n",
    "kor_script = []\n",
    "\n",
    "eng_com = re.compile(r'\\(?[a-zA-Z]')\n",
    "\n",
    "doc = fitz.open(path)\n",
    "\n",
    "for p in range(len(doc)):\n",
    "    page = doc.load_page(p)\n",
    "    text = page.get_text(\"text\").replace('\\xa0\\n', '').split('\\n')\n",
    "    for t in text:\n",
    "        if t == '':\n",
    "            continue\n",
    "        elif eng_com.match(t):\n",
    "            eng_script.append(t)\n",
    "        else:\n",
    "            kor_script.append(t)\n",
    "doc.close()"
   ]
  },
  {
   "cell_type": "code",
   "execution_count": 103,
   "metadata": {},
   "outputs": [],
   "source": [
    "file_name = 'ko_script.txt'\n",
    "\n",
    "with open(file_name, 'w+') as file:\n",
    "    file.write('\\n'.join(kor_script))"
   ]
  },
  {
   "cell_type": "code",
   "execution_count": 104,
   "metadata": {},
   "outputs": [],
   "source": [
    "file_name = 'eng_script.txt'\n",
    "\n",
    "with open(file_name, 'w+') as file:\n",
    "    file.write('\\n'.join(eng_script))"
   ]
  }
 ],
 "metadata": {
  "kernelspec": {
   "display_name": "mamba-benchmarks",
   "language": "python",
   "name": "python3"
  },
  "language_info": {
   "codemirror_mode": {
    "name": "ipython",
    "version": 3
   },
   "file_extension": ".py",
   "mimetype": "text/x-python",
   "name": "python",
   "nbconvert_exporter": "python",
   "pygments_lexer": "ipython3",
   "version": "3.10.13"
  }
 },
 "nbformat": 4,
 "nbformat_minor": 2
}
